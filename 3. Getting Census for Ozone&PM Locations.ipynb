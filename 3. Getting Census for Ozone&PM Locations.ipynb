{
 "cells": [
  {
   "cell_type": "markdown",
   "metadata": {},
   "source": [
    "# Libraries"
   ]
  },
  {
   "cell_type": "code",
   "execution_count": 1,
   "metadata": {},
   "outputs": [],
   "source": [
    "import numpy as np\n",
    "import pandas as pd\n",
    "import requests\n",
    "import requests_cache\n",
    "import lxml.html as lx\n",
    "import censusgeocode as cg\n",
    "from save_load import save_load\n",
    "save_load = save_load()\n",
    "\n",
    "requests_cache.install_cache(\"internal/mycache\")"
   ]
  },
  {
   "cell_type": "markdown",
   "metadata": {},
   "source": [
    "# Retrieve Locations"
   ]
  },
  {
   "cell_type": "code",
   "execution_count": 2,
   "metadata": {},
   "outputs": [],
   "source": [
    "def get_info(url, names):\n",
    "    \"\"\"Given a url a AQMIS page with one site, retrieve the link to get location info, return a row of a dataframe\"\"\"     \n",
    "    try:\n",
    "        response = requests.get(url)\n",
    "        response.raise_for_status()\n",
    "        html = lx.fromstring(response.text)\n",
    "        \n",
    "        # get location name and location description link\n",
    "        location_name = html.xpath(\"//td/span[@class = 'title4']/a/text()\")[0]\n",
    "        link = html.xpath(\"//td/span[@class = 'title4']/a\")[0].attrib[\"href\"]\n",
    "        \n",
    "        if location_name in names:\n",
    "            return None, names\n",
    "        \n",
    "        response2 = requests.get(link)\n",
    "        response.raise_for_status()\n",
    "        html2 = response2.content\n",
    "        \n",
    "        # get table from location description link\n",
    "        df_list = pd.read_html(html2)\n",
    "        \n",
    "        # table with index 1 is what we want\n",
    "        df = df_list[1]\n",
    "        df[\"Name\"] = location_name\n",
    "        df.set_index(\"Name\", inplace=True)\n",
    "        names.add(location_name)\n",
    "        return df, names\n",
    "    except:\n",
    "        return None, names\n",
    "\n",
    "\n",
    "def get_all_info(links):\n",
    "    \"\"\"Given a list of links to all AQMIS tables for all sites, create a data frame with unique locations and location info\"\"\"\n",
    "    # will hold one row data frames\n",
    "    df_list = []\n",
    "    names = set()\n",
    "    for link in links:\n",
    "        url = \"\".join([\"https://www.arb.ca.gov/aqmis2/\", link])\n",
    "        row, names = get_info(url, names)\n",
    "        df_list.append(row)\n",
    "    df = pd.concat(df_list)\n",
    "    return df"
   ]
  },
  {
   "cell_type": "markdown",
   "metadata": {},
   "source": [
    "# OZONE Locations"
   ]
  },
  {
   "cell_type": "code",
   "execution_count": 3,
   "metadata": {},
   "outputs": [],
   "source": [
    "#ozone_links = save_load.load_object(\"internal/ozone_links.pkl\")\n",
    "#ozone_locations = get_all_info(ozone_links)\n",
    "#ozone_locations.to_excel(\"datasets/ozone_locations.xlsx\")"
   ]
  },
  {
   "cell_type": "markdown",
   "metadata": {},
   "source": [
    "# PM2.5 Locations"
   ]
  },
  {
   "cell_type": "code",
   "execution_count": 4,
   "metadata": {},
   "outputs": [],
   "source": [
    "#pm25_links = save_load.load_object(\"internal/pm25_links.pkl\")\n",
    "#pm25_locations = get_all_info(pm25_links)\n",
    "#pm25_locations.to_excel(\"datasets/pm25_locations.xlsx\")"
   ]
  },
  {
   "cell_type": "markdown",
   "metadata": {},
   "source": [
    "# Get Census Tracts"
   ]
  },
  {
   "cell_type": "code",
   "execution_count": 17,
   "metadata": {
    "scrolled": true
   },
   "outputs": [],
   "source": [
    "def find_geoid(df):\n",
    "    \"\"\"Given a df with with columns for x and y coordinates, return a modified df with a new column for geoid\"\"\"\n",
    "    geoids = []\n",
    "    blocks = []\n",
    "    tracts = []\n",
    "    counties = []\n",
    "    for i in range(0, df.shape[0]):\n",
    "        x_coord = df[\"Longitude (W)\"][i]\n",
    "        y_coord = df[\"Latitude (N)\"][i]\n",
    "        info = cg.coordinates(x = x_coord, y = y_coord)\n",
    "        geoid = info[\"2010 Census Blocks\"][0][\"GEOID\"]\n",
    "        block = info[\"2010 Census Blocks\"][0][\"BLOCK\"]\n",
    "        tract = info[\"2010 Census Blocks\"][0][\"TRACT\"]\n",
    "        county = info[\"2010 Census Blocks\"][0][\"COUNTY\"]\n",
    "        geoids.append(geoid)\n",
    "        blocks.append(block)\n",
    "        tracts.append(tract)\n",
    "        counties.append(county)\n",
    "    df[\"GEOID10\"] = geoids\n",
    "    df[\"BLOCK10\"] = blocks\n",
    "    df[\"TRACT10\"] = tracts\n",
    "    df[\"COUNTY\"] = counties\n",
    "    return df"
   ]
  },
  {
   "cell_type": "code",
   "execution_count": 16,
   "metadata": {
    "scrolled": false
   },
   "outputs": [
    {
     "data": {
      "text/plain": [
       "{'SUFFIX': '',\n",
       " 'GEOID': '060730212022060',\n",
       " 'CENTLAT': '+32.7984118',\n",
       " 'BLOCK': '2060',\n",
       " 'AREAWATER': 0,\n",
       " 'STATE': '06',\n",
       " 'BASENAME': '2060',\n",
       " 'OID': 210404038360686,\n",
       " 'LSADC': 'BK',\n",
       " 'FUNCSTAT': 'S',\n",
       " 'INTPTLAT': '+32.7984118',\n",
       " 'NAME': 'Block 2060',\n",
       " 'OBJECTID': 5278411,\n",
       " 'TRACT': '021202',\n",
       " 'CENTLON': '-116.7052746',\n",
       " 'BLKGRP': '2',\n",
       " 'AREALAND': 8992794,\n",
       " 'INTPTLON': '-116.7052746',\n",
       " 'MTFCC': 'G5040',\n",
       " 'LWBLKTYP': 'L',\n",
       " 'COUNTY': '073',\n",
       " 'CENT': (-116.7052746, 32.7984118),\n",
       " 'INTPT': (-116.7052746, 32.7984118)}"
      ]
     },
     "execution_count": 16,
     "metadata": {},
     "output_type": "execute_result"
    }
   ],
   "source": [
    "cg.coordinates(x = -116.7, y = 32.8)[\"2010 Census Blocks\"][0]"
   ]
  },
  {
   "cell_type": "code",
   "execution_count": 19,
   "metadata": {},
   "outputs": [],
   "source": [
    "#ozone_locations = pd.read_excel(\"datasets/ozone_locations.xlsx\")\n",
    "#ozone_locations = ozone_locations.set_index(\"Name\")\n",
    "#ozone_locations = find_geoid(ozone_locations)\n",
    "#ozone_locations.to_excel(\"datasets/ozone_locations.xlsx\")\n",
    "\n",
    "#pm25_locations = pd.read_excel(\"datasets/pm25_locations.xlsx\")\n",
    "#pm25_locations = pm25_locations.set_index(\"Name\")\n",
    "#pm25_locations = find_geoid(pm25_locations)\n",
    "#pm25_locations.to_excel(\"datasets/pm25_locations.xlsx\")"
   ]
  },
  {
   "cell_type": "markdown",
   "metadata": {},
   "source": [
    "# Merging"
   ]
  },
  {
   "cell_type": "code",
   "execution_count": 4,
   "metadata": {},
   "outputs": [],
   "source": [
    "def merge_locations(file_path, location_data):\n",
    "    \"\"\"Given a file path to the toxin data and the location, merge it by location name and save to excel\"\"\"\n",
    "    df = pd.read_excel(file_path)\n",
    "    df = df.rename(columns={\"Unnamed: 0\": \"Name\"})\n",
    "    df = df.set_index(\"Name\")\n",
    "    df = df.join(location_data)\n",
    "    df.to_excel(file_path)\n",
    "    return"
   ]
  },
  {
   "cell_type": "code",
   "execution_count": 9,
   "metadata": {},
   "outputs": [],
   "source": [
    "ozone_locations = pd.read_excel(\"datasets/ozone_locations.xlsx\")\n",
    "ozone_locations = ozone_locations.set_index(\"Name\")\n",
    "\n",
    "pm25_locations = pd.read_excel(\"datasets/pm25_locations.xlsx\")\n",
    "pm25_locations = pm25_locations.set_index(\"Name\")"
   ]
  },
  {
   "cell_type": "code",
   "execution_count": 10,
   "metadata": {},
   "outputs": [],
   "source": [
    "merge_locations(\"datasets/ozone_month.xlsx\", ozone_locations)\n",
    "merge_locations(\"datasets/ozone_year.xlsx\", ozone_locations)\n",
    "merge_locations(\"datasets/pm25_month.xlsx\", pm25_locations)\n",
    "merge_locations(\"datasets/pm25_year.xlsx\", pm25_locations)"
   ]
  }
 ],
 "metadata": {
  "kernelspec": {
   "display_name": "Python 3",
   "language": "python",
   "name": "python3"
  },
  "language_info": {
   "codemirror_mode": {
    "name": "ipython",
    "version": 3
   },
   "file_extension": ".py",
   "mimetype": "text/x-python",
   "name": "python",
   "nbconvert_exporter": "python",
   "pygments_lexer": "ipython3",
   "version": "3.6.9"
  }
 },
 "nbformat": 4,
 "nbformat_minor": 4
}
