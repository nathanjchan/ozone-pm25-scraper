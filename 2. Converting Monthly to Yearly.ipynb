{
 "cells": [
  {
   "cell_type": "markdown",
   "metadata": {},
   "source": [
    "# Libraries"
   ]
  },
  {
   "cell_type": "code",
   "execution_count": 5,
   "metadata": {},
   "outputs": [],
   "source": [
    "import numpy as np\n",
    "import pandas as pd"
   ]
  },
  {
   "cell_type": "markdown",
   "metadata": {},
   "source": [
    "# Conversion"
   ]
  },
  {
   "cell_type": "code",
   "execution_count": 44,
   "metadata": {
    "scrolled": false
   },
   "outputs": [],
   "source": [
    "ozone_month = pd.read_excel(\"datasets/ozone_month.xlsx\")\n",
    "ozone_month = ozone_month.rename(columns={\"Unnamed: 0\": \"Name\"})\n",
    "ozone_month = ozone_month.set_index(\"Name\")\n",
    "\n",
    "pm25_month = pd.read_excel(\"datasets/pm25_month.xlsx\")\n",
    "pm25_month = pm25_month.rename(columns={\"Unnamed: 0\": \"Name\"})\n",
    "pm25_month = pm25_month.set_index(\"Name\")"
   ]
  },
  {
   "cell_type": "code",
   "execution_count": 45,
   "metadata": {
    "scrolled": false
   },
   "outputs": [],
   "source": [
    "def convert_year(df, start_year, end_year):\n",
    "    \"Given data per month, average it out per year\"\n",
    "    num_years = end_year - start_year + 1\n",
    "    indices = np.array(range(0, num_years))\n",
    "    indices = indices * 12 # indices for the January for each year\n",
    "    new_df = pd.DataFrame(index = df.index, columns = list(range(start_year, end_year + 1)))\n",
    "    for i in range(0, num_years):\n",
    "        indices_for_mean = list(range(indices[i], indices[i] + 12))\n",
    "        new_df.iloc[:,i] = pd.DataFrame.mean(df.iloc[:,indices_for_mean], axis=1)\n",
    "    return new_df\n",
    "\n",
    "ozone_year = convert_year(ozone_month, 2005, 2018)\n",
    "pm25_year = convert_year(pm25_month, 2005, 2018)"
   ]
  },
  {
   "cell_type": "code",
   "execution_count": 46,
   "metadata": {},
   "outputs": [],
   "source": [
    "ozone_year.to_excel(\"datasets/ozone_year.xlsx\")\n",
    "pm25_year.to_excel(\"datasets/pm25_year.xlsx\")"
   ]
  }
 ],
 "metadata": {
  "kernelspec": {
   "display_name": "Python 3",
   "language": "python",
   "name": "python3"
  },
  "language_info": {
   "codemirror_mode": {
    "name": "ipython",
    "version": 3
   },
   "file_extension": ".py",
   "mimetype": "text/x-python",
   "name": "python",
   "nbconvert_exporter": "python",
   "pygments_lexer": "ipython3",
   "version": "3.6.9"
  }
 },
 "nbformat": 4,
 "nbformat_minor": 4
}
